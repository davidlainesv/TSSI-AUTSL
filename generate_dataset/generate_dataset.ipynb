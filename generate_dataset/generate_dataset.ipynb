{
 "cells": [
  {
   "cell_type": "code",
   "execution_count": 1,
   "id": "afdfe158-9f15-43d7-9b65-f22d0aca1e9f",
   "metadata": {},
   "outputs": [],
   "source": [
    "import tensorflow_datasets as tfds"
   ]
  },
  {
   "cell_type": "code",
   "execution_count": 2,
   "id": "93b7e757-b946-4da0-869f-be65e5f6e6a2",
   "metadata": {},
   "outputs": [],
   "source": [
    "!rm -r \"./tfds_datasets\""
   ]
  },
  {
   "cell_type": "code",
   "execution_count": 3,
   "id": "bd846d54-3d6d-491f-980c-ecc79542686c",
   "metadata": {},
   "outputs": [
    {
     "name": "stderr",
     "output_type": "stream",
     "text": [
      "2023-03-10 18:41:01.347533: I tensorflow/core/platform/cpu_feature_guard.cc:193] This TensorFlow binary is optimized with oneAPI Deep Neural Network Library (oneDNN) to use the following CPU instructions in performance-critical operations:  AVX2 AVX512F AVX512_VNNI FMA\n",
      "To enable them in other operations, rebuild TensorFlow with the appropriate compiler flags.\n",
      "2023-03-10 18:41:01.483519: I tensorflow/core/util/util.cc:169] oneDNN custom operations are on. You may see slightly different numerical results due to floating-point round-off errors from different computation orders. To turn them off, set the environment variable `TF_ENABLE_ONEDNN_OPTS=0`.\n",
      "2023-03-10 18:41:01.516920: E tensorflow/stream_executor/cuda/cuda_blas.cc:2981] Unable to register cuBLAS factory: Attempting to register factory for plugin cuBLAS when one has already been registered\n",
      "2023-03-10 18:41:03.883700: W tensorflow/stream_executor/platform/default/dso_loader.cc:64] Could not load dynamic library 'libnvinfer.so.7'; dlerror: libnvinfer.so.7: cannot open shared object file: No such file or directory; LD_LIBRARY_PATH: /usr/local/cuda/lib64:/usr/local/nccl2/lib:/usr/local/cuda/extras/CUPTI/lib64\n",
      "2023-03-10 18:41:03.883796: W tensorflow/stream_executor/platform/default/dso_loader.cc:64] Could not load dynamic library 'libnvinfer_plugin.so.7'; dlerror: libnvinfer_plugin.so.7: cannot open shared object file: No such file or directory; LD_LIBRARY_PATH: /usr/local/cuda/lib64:/usr/local/nccl2/lib:/usr/local/cuda/extras/CUPTI/lib64\n",
      "2023-03-10 18:41:03.883804: W tensorflow/compiler/tf2tensorrt/utils/py_utils.cc:38] TF-TRT Warning: Cannot dlopen some TensorRT libraries. If you would like to use Nvidia GPU with TensorRT, please make sure the missing libraries mentioned above are installed properly.\n"
     ]
    }
   ],
   "source": [
    "import autsltssi"
   ]
  },
  {
   "cell_type": "code",
   "execution_count": 4,
   "id": "c4f18ba2-1ca4-4ebe-96c4-b55f9cb64e89",
   "metadata": {},
   "outputs": [
    {
     "name": "stdout",
     "output_type": "stream",
     "text": [
      "Downloading and preparing dataset Unknown size (download: Unknown size, generated: Unknown size, total: Unknown size) to ./tfds_datasets/autsl_tssi/1.0.0...\n"
     ]
    },
    {
     "data": {
      "application/vnd.jupyter.widget-view+json": {
       "model_id": "",
       "version_major": 2,
       "version_minor": 0
      },
      "text/plain": [
       "Generating splits...:   0%|          | 0/3 [00:00<?, ? splits/s]"
      ]
     },
     "metadata": {},
     "output_type": "display_data"
    },
    {
     "data": {
      "application/vnd.jupyter.widget-view+json": {
       "model_id": "",
       "version_major": 2,
       "version_minor": 0
      },
      "text/plain": [
       "Generating train examples...: 0 examples [00:00, ? examples/s]"
      ]
     },
     "metadata": {},
     "output_type": "display_data"
    },
    {
     "name": "stderr",
     "output_type": "stream",
     "text": [
      "2023-03-10 18:41:06.235517: W tensorflow/stream_executor/platform/default/dso_loader.cc:64] Could not load dynamic library 'libcuda.so.1'; dlerror: libcuda.so.1: cannot open shared object file: No such file or directory; LD_LIBRARY_PATH: /opt/conda/lib/python3.7/site-packages/cv2/../../lib64:/usr/local/cuda/lib64:/usr/local/nccl2/lib:/usr/local/cuda/extras/CUPTI/lib64\n",
      "2023-03-10 18:41:06.236296: W tensorflow/stream_executor/cuda/cuda_driver.cc:263] failed call to cuInit: UNKNOWN ERROR (303)\n",
      "2023-03-10 18:41:06.236319: I tensorflow/stream_executor/cuda/cuda_diagnostics.cc:156] kernel driver does not appear to be running on this host (cuda-11-0-20230309-012304): /proc/driver/nvidia/version does not exist\n",
      "2023-03-10 18:41:06.240115: I tensorflow/core/platform/cpu_feature_guard.cc:193] This TensorFlow binary is optimized with oneAPI Deep Neural Network Library (oneDNN) to use the following CPU instructions in performance-critical operations:  AVX2 AVX512F AVX512_VNNI FMA\n",
      "To enable them in other operations, rebuild TensorFlow with the appropriate compiler flags.\n"
     ]
    },
    {
     "data": {
      "application/vnd.jupyter.widget-view+json": {
       "model_id": "",
       "version_major": 2,
       "version_minor": 0
      },
      "text/plain": [
       "Shuffling tfds_datasets/autsl_tssi/1.0.0.incompleteVD3SHO/autsl_tssi-train.tfrecord*...:   0%|          | 0/28…"
      ]
     },
     "metadata": {},
     "output_type": "display_data"
    },
    {
     "data": {
      "application/vnd.jupyter.widget-view+json": {
       "model_id": "",
       "version_major": 2,
       "version_minor": 0
      },
      "text/plain": [
       "Generating validation examples...: 0 examples [00:00, ? examples/s]"
      ]
     },
     "metadata": {},
     "output_type": "display_data"
    },
    {
     "data": {
      "application/vnd.jupyter.widget-view+json": {
       "model_id": "",
       "version_major": 2,
       "version_minor": 0
      },
      "text/plain": [
       "Shuffling tfds_datasets/autsl_tssi/1.0.0.incompleteVD3SHO/autsl_tssi-validation.tfrecord*...:   0%|          |…"
      ]
     },
     "metadata": {},
     "output_type": "display_data"
    },
    {
     "data": {
      "application/vnd.jupyter.widget-view+json": {
       "model_id": "",
       "version_major": 2,
       "version_minor": 0
      },
      "text/plain": [
       "Generating test examples...: 0 examples [00:00, ? examples/s]"
      ]
     },
     "metadata": {},
     "output_type": "display_data"
    },
    {
     "data": {
      "application/vnd.jupyter.widget-view+json": {
       "model_id": "",
       "version_major": 2,
       "version_minor": 0
      },
      "text/plain": [
       "Shuffling tfds_datasets/autsl_tssi/1.0.0.incompleteVD3SHO/autsl_tssi-test.tfrecord*...:   0%|          | 0/374…"
      ]
     },
     "metadata": {},
     "output_type": "display_data"
    },
    {
     "name": "stdout",
     "output_type": "stream",
     "text": [
      "Dataset autsl_tssi downloaded and prepared to ./tfds_datasets/autsl_tssi/1.0.0. Subsequent calls will reuse this data.\n"
     ]
    }
   ],
   "source": [
    "ds, info = tfds.load('autsl_tssi', data_dir=\"./tfds_datasets\", with_info=True)"
   ]
  },
  {
   "cell_type": "code",
   "execution_count": 5,
   "id": "e914c1bf-c12e-4464-a106-0be2f6a1a2f1",
   "metadata": {},
   "outputs": [
    {
     "data": {
      "text/plain": [
       "{'train': <PrefetchDataset element_spec={'label': TensorSpec(shape=(), dtype=tf.int64, name=None), 'pose': TensorSpec(shape=(None, 135, 3), dtype=tf.float64, name=None)}>,\n",
       " 'validation': <PrefetchDataset element_spec={'label': TensorSpec(shape=(), dtype=tf.int64, name=None), 'pose': TensorSpec(shape=(None, 135, 3), dtype=tf.float64, name=None)}>,\n",
       " 'test': <PrefetchDataset element_spec={'label': TensorSpec(shape=(), dtype=tf.int64, name=None), 'pose': TensorSpec(shape=(None, 135, 3), dtype=tf.float64, name=None)}>}"
      ]
     },
     "execution_count": 5,
     "metadata": {},
     "output_type": "execute_result"
    }
   ],
   "source": [
    "ds"
   ]
  },
  {
   "cell_type": "code",
   "execution_count": 6,
   "id": "49bb32b3-c0f4-4056-938e-7045671a4eee",
   "metadata": {},
   "outputs": [],
   "source": [
    "examples = list(ds[\"train\"].as_numpy_iterator())"
   ]
  },
  {
   "cell_type": "markdown",
   "id": "ef2ebacc-05d5-4683-b6c8-628a09ec9760",
   "metadata": {},
   "source": [
    "Some plots of the dataset"
   ]
  },
  {
   "cell_type": "code",
   "execution_count": 12,
   "id": "4063ab4b-368e-4acf-8ee3-4fe83e500eb5",
   "metadata": {},
   "outputs": [
    {
     "data": {
      "text/plain": [
       "<matplotlib.collections.PathCollection at 0x7efcec02c850>"
      ]
     },
     "execution_count": 12,
     "metadata": {},
     "output_type": "execute_result"
    },
    {
     "data": {
      "image/png": "[encoded data removed]",
      "text/plain": [
       "<Figure size 640x480 with 1 Axes>"
      ]
     },
     "metadata": {},
     "output_type": "display_data"
    }
   ],
   "source": [
    "import matplotlib.pyplot as plt\n",
    "\n",
    "data = examples[2][\"pose\"]\n",
    "x = data[-1, :, 0]\n",
    "y = data[-1, :, 1]\n",
    "plt.scatter(x, -y, s=3)"
   ]
  },
  {
   "cell_type": "markdown",
   "id": "bf5859f8-89db-42b1-8c55-be9f2d837c4c",
   "metadata": {},
   "source": [
    "Some statistics of the dataset"
   ]
  },
  {
   "cell_type": "code",
   "execution_count": 15,
   "id": "687594f0-1c53-4d01-a1b8-5f222510295e",
   "metadata": {},
   "outputs": [
    {
     "data": {
      "text/plain": [
       "-0.08927479386329651"
      ]
     },
     "execution_count": 15,
     "metadata": {},
     "output_type": "execute_result"
    }
   ],
   "source": [
    "import numpy as np\n",
    "\n",
    "np.min([example[\"pose\"].min() for example in examples])"
   ]
  },
  {
   "cell_type": "code",
   "execution_count": 16,
   "id": "a2ffc774-7b6b-4089-9a52-a4de10d1312b",
   "metadata": {},
   "outputs": [
    {
     "data": {
      "text/plain": [
       "1.194827675819397"
      ]
     },
     "execution_count": 16,
     "metadata": {},
     "output_type": "execute_result"
    }
   ],
   "source": [
    "np.max([example[\"pose\"].max() for example in examples])"
   ]
  },
  {
   "cell_type": "code",
   "execution_count": null,
   "id": "4a81a93b-48a8-4aad-8706-1c23c646342c",
   "metadata": {},
   "outputs": [],
   "source": []
  }
 ],
 "metadata": {
  "environment": {
   "kernel": "python3",
   "name": "tf2-gpu.2-10.m103",
   "type": "gcloud",
   "uri": "gcr.io/deeplearning-platform-release/tf2-gpu.2-10:m103"
  },
  "kernelspec": {
   "display_name": "Python 3 (ipykernel)",
   "language": "python",
   "name": "python3"
  },
  "language_info": {
   "codemirror_mode": {
    "name": "ipython",
    "version": 3
   },
   "file_extension": ".py",
   "mimetype": "text/x-python",
   "name": "python",
   "nbconvert_exporter": "python",
   "pygments_lexer": "ipython3",
   "version": "3.7.12"
  }
 },
 "nbformat": 4,
 "nbformat_minor": 5
}
