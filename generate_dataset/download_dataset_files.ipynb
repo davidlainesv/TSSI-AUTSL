{
 "cells": [
  {
   "cell_type": "code",
   "execution_count": 1,
   "id": "4f7c9b90-82b6-41be-b058-adf14e25f732",
   "metadata": {},
   "outputs": [],
   "source": [
    "from google.cloud import storage\n",
    "from oauth2client.service_account import ServiceAccountCredentials\n",
    "import os\n",
    "\n",
    "client = storage.Client(project='sign-language-recognition')\n",
    "bucket = client.get_bucket('slr_datasets_raw')\n",
    "\n",
    "for i in range(1, 19):\n",
    "    blob = bucket.blob('train_set_vfbha39.zip.' + str(i).zfill(3))\n",
    "    blob.download_to_filename('train_set_vfbha39.zip.' + str(i).zfill(3))"
   ]
  },
  {
   "cell_type": "code",
   "execution_count": 2,
   "id": "6992886d-3540-4d25-a9f3-8b397bfd6a1e",
   "metadata": {},
   "outputs": [],
   "source": [
    "from google.cloud import storage\n",
    "from oauth2client.service_account import ServiceAccountCredentials\n",
    "import os\n",
    "\n",
    "client = storage.Client(project='sign-language-recognition')\n",
    "bucket = client.get_bucket('slr_datasets_raw')\n",
    "\n",
    "for i in range(1, 4):\n",
    "    blob = bucket.blob('test_set_xsaft57.zip.' + str(i).zfill(3))\n",
    "    blob.download_to_filename('test_set_xsaft57.zip.' + str(i).zfill(3))"
   ]
  },
  {
   "cell_type": "code",
   "execution_count": null,
   "id": "7cc8aae9-b5ee-4cdf-b24d-54638fa0251d",
   "metadata": {},
   "outputs": [],
   "source": []
  }
 ],
 "metadata": {
  "environment": {
   "kernel": "python3",
   "name": "tf2-gpu.2-10.m103",
   "type": "gcloud",
   "uri": "gcr.io/deeplearning-platform-release/tf2-gpu.2-10:m103"
  },
  "kernelspec": {
   "display_name": "Python 3 (ipykernel)",
   "language": "python",
   "name": "python3"
  },
  "language_info": {
   "codemirror_mode": {
    "name": "ipython",
    "version": 3
   },
   "file_extension": ".py",
   "mimetype": "text/x-python",
   "name": "python",
   "nbconvert_exporter": "python",
   "pygments_lexer": "ipython3",
   "version": "3.7.12"
  }
 },
 "nbformat": 4,
 "nbformat_minor": 5
}
